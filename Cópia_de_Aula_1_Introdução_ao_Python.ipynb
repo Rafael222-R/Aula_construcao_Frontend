{
  "nbformat": 4,
  "nbformat_minor": 0,
  "metadata": {
    "colab": {
      "provenance": [],
      "include_colab_link": true
    },
    "kernelspec": {
      "name": "python3",
      "display_name": "Python 3"
    },
    "language_info": {
      "name": "python"
    }
  },
  "cells": [
    {
      "cell_type": "markdown",
      "metadata": {
        "id": "view-in-github",
        "colab_type": "text"
      },
      "source": [
        "<a href=\"https://colab.research.google.com/github/Rafael222-R/Aula_construcao_Frontend/blob/main/C%C3%B3pia_de_Aula_1_Introdu%C3%A7%C3%A3o_ao_Python.ipynb\" target=\"_parent\"><img src=\"https://colab.research.google.com/assets/colab-badge.svg\" alt=\"Open In Colab\"/></a>"
      ]
    },
    {
      "cell_type": "markdown",
      "source": [
        "# Introdução ao Python - Aula 1\n",
        "## Autor: Daniel Souza\n",
        "### Objetivo: Introduzir os conceitos básicos de Python e preparar os alunos para o aprendizado de Machine Learning"
      ],
      "metadata": {
        "id": "cMqX95Xfo5gm"
      }
    },
    {
      "cell_type": "markdown",
      "source": [
        "# Seção 1: Conceitos Básicos de Python"
      ],
      "metadata": {
        "id": "2MRaXboLo_zR"
      }
    },
    {
      "cell_type": "code",
      "source": [
        "print('Olá, bem-vindo à primeira aula de Machine Learning!')"
      ],
      "metadata": {
        "id": "Ih0bdO6EpLEZ",
        "colab": {
          "base_uri": "https://localhost:8080/"
        },
        "outputId": "f2d7cb79-4a32-416e-c807-fbd04dd47d10"
      },
      "execution_count": null,
      "outputs": [
        {
          "output_type": "stream",
          "name": "stdout",
          "text": [
            "Olá, bem-vindo à primeira aula de Machine Learning!\n"
          ]
        }
      ]
    },
    {
      "cell_type": "markdown",
      "source": [
        "## Tipos de dados Elementares"
      ],
      "metadata": {
        "id": "JYh7WJsrpPdf"
      }
    },
    {
      "cell_type": "code",
      "source": [
        "# Tipos de dados\n",
        "numero_inteiro = 10\n",
        "numero_decimal = 3.14\n",
        "texto = 'Olá, Mundo!'\n",
        "booleano = True\n",
        "\n",
        "print(numero_inteiro, numero_decimal, texto, booleano)"
      ],
      "metadata": {
        "id": "gHWwkPDfpZdC",
        "colab": {
          "base_uri": "https://localhost:8080/"
        },
        "outputId": "ca07b7b8-2c93-4707-e4a1-ee0bf35fd849"
      },
      "execution_count": null,
      "outputs": [
        {
          "output_type": "stream",
          "name": "stdout",
          "text": [
            "10 3.14 Olá, Mundo! True\n"
          ]
        }
      ]
    },
    {
      "cell_type": "code",
      "source": [
        "# console.log(\"${}\")\n",
        "print(f\"inteiro: {numero_inteiro}, decimal: {numero_decimal}\")\n",
        "print(f'texto: {texto}')"
      ],
      "metadata": {
        "colab": {
          "base_uri": "https://localhost:8080/"
        },
        "id": "myQFMmaMuOzj",
        "outputId": "05d74144-8eae-4900-8fdd-8bbaf2447a44"
      },
      "execution_count": null,
      "outputs": [
        {
          "output_type": "stream",
          "name": "stdout",
          "text": [
            "inteiro: 10, decimal: 3.14\n",
            "texto: Olá, Mundo!\n"
          ]
        }
      ]
    },
    {
      "cell_type": "markdown",
      "source": [
        "## Identação\n",
        "\n",
        "- Não é permitido escrita de código contínuo em diferentes identações.\n",
        "\n",
        "- Identação é utilizada para determinar que um conjunto de instruções está dentro de outra instrução.\n",
        "  - Geralmente delimitado por chaves `{}`."
      ],
      "metadata": {
        "id": "We8UkqniCh_C"
      }
    },
    {
      "cell_type": "markdown",
      "source": [
        "### Exemplo de erro"
      ],
      "metadata": {
        "id": "aaQGrbqnDd-K"
      }
    },
    {
      "cell_type": "code",
      "source": [
        "print(\"Olá mundo 1\")\n",
        "  print(\"Aqui dá erro pois está em outro nível de identação\")\n",
        "print(\"outra identaçao\")"
      ],
      "metadata": {
        "colab": {
          "base_uri": "https://localhost:8080/",
          "height": 106
        },
        "id": "Peo-6Yo2DgSy",
        "outputId": "97abcc78-c3e0-48f2-8fb6-544f4e4bd962"
      },
      "execution_count": null,
      "outputs": [
        {
          "output_type": "error",
          "ename": "IndentationError",
          "evalue": "unexpected indent (<ipython-input-10-6ac24bd6b696>, line 2)",
          "traceback": [
            "\u001b[0;36m  File \u001b[0;32m\"<ipython-input-10-6ac24bd6b696>\"\u001b[0;36m, line \u001b[0;32m2\u001b[0m\n\u001b[0;31m    print(\"Aqui dá erro pois está em outro nível de identação\")\u001b[0m\n\u001b[0m    ^\u001b[0m\n\u001b[0;31mIndentationError\u001b[0m\u001b[0;31m:\u001b[0m unexpected indent\n"
          ]
        }
      ]
    },
    {
      "cell_type": "markdown",
      "source": [
        "## Uso do `;`\n",
        "\n",
        "- Apenas se iremos executar mais de uma instrução na mesma linha\n",
        "\n",
        "- **Para que serve**: serve para identificar que uma instrução finalizou para que possa determinar que o que virá em seguida é uma nova instrução."
      ],
      "metadata": {
        "id": "oMJf5fn-EJwD"
      }
    },
    {
      "cell_type": "code",
      "source": [
        "# Exemplo que dá erro\n",
        "print(\"Olá mundo\") print(\"Olá mundo 2\")"
      ],
      "metadata": {
        "colab": {
          "base_uri": "https://localhost:8080/",
          "height": 106
        },
        "id": "H4wbT1VuEkA-",
        "outputId": "82666ebb-901f-4ea2-d1ea-7d887a18fbe0"
      },
      "execution_count": null,
      "outputs": [
        {
          "output_type": "error",
          "ename": "SyntaxError",
          "evalue": "invalid syntax (<ipython-input-11-e74db53bfab2>, line 2)",
          "traceback": [
            "\u001b[0;36m  File \u001b[0;32m\"<ipython-input-11-e74db53bfab2>\"\u001b[0;36m, line \u001b[0;32m2\u001b[0m\n\u001b[0;31m    print(\"Olá mundo\") print(\"Olá mundo 2\")\u001b[0m\n\u001b[0m                       ^\u001b[0m\n\u001b[0;31mSyntaxError\u001b[0m\u001b[0;31m:\u001b[0m invalid syntax\n"
          ]
        }
      ]
    },
    {
      "cell_type": "code",
      "source": [
        "# Aqui separa as instruções\n",
        "print(\"Olá mundo\"); print(\"Olá mundo 2\")"
      ],
      "metadata": {
        "colab": {
          "base_uri": "https://localhost:8080/"
        },
        "id": "EXsskzGgFU6x",
        "outputId": "f80f543d-5aab-4337-e67f-2152bae5b99c"
      },
      "execution_count": null,
      "outputs": [
        {
          "output_type": "stream",
          "name": "stdout",
          "text": [
            "Olá mundo\n",
            "Olá mundo 2\n"
          ]
        }
      ]
    },
    {
      "cell_type": "markdown",
      "source": [
        "## Estruturas de Dados"
      ],
      "metadata": {
        "id": "8rfcfO_apcMm"
      }
    },
    {
      "cell_type": "code",
      "source": [
        "lista = [1, 2, 3, 3, 4]\n",
        "tupla = (5, 6, 7)\n",
        "dicionario = {'nome': 'João', 'idade': 25}\n",
        "conjunto = {1, 2, 3, 3, 4}\n",
        "\n",
        "print(f'lista: {lista}')\n",
        "print(f'tupla: {tupla}')\n",
        "print(f'dicionario: {dicionario}')\n",
        "print(f'conjunto: {conjunto}')"
      ],
      "metadata": {
        "id": "3z10LMErpgpI",
        "colab": {
          "base_uri": "https://localhost:8080/"
        },
        "outputId": "72a94e8d-43e3-45e4-defa-41e1c6ff2d05"
      },
      "execution_count": null,
      "outputs": [
        {
          "output_type": "stream",
          "name": "stdout",
          "text": [
            "lista: [1, 2, 3, 3, 4]\n",
            "tupla: (5, 6, 7)\n",
            "dicionario: {'nome': 'João', 'idade': 25}\n",
            "conjunto: {1, 2, 3, 4}\n"
          ]
        }
      ]
    },
    {
      "cell_type": "markdown",
      "source": [
        "## Estruturas de Controle"
      ],
      "metadata": {
        "id": "_Q3gGODdpgIY"
      }
    },
    {
      "cell_type": "code",
      "source": [
        "for i in lista:\n",
        "    print(f'Número (lista): {i}')\n",
        "\n",
        "for i in conjunto:\n",
        "    print(f'Número (conjunto): {i}')\n",
        "\n",
        "if numero_inteiro > 5:\n",
        "    print('O número é maior que 5')\n"
      ],
      "metadata": {
        "id": "FdBgxqTWpqzv",
        "colab": {
          "base_uri": "https://localhost:8080/"
        },
        "outputId": "a5cbfe98-6265-4ab9-936b-872775211d55"
      },
      "execution_count": null,
      "outputs": [
        {
          "output_type": "stream",
          "name": "stdout",
          "text": [
            "Número (lista): 1\n",
            "Número (lista): 2\n",
            "Número (lista): 3\n",
            "Número (lista): 3\n",
            "Número (lista): 4\n",
            "Número (conjunto): 1\n",
            "Número (conjunto): 2\n",
            "Número (conjunto): 3\n",
            "Número (conjunto): 4\n",
            "O número é maior que 5\n"
          ]
        }
      ]
    },
    {
      "cell_type": "markdown",
      "source": [
        "### Estrutura de repetição com índice."
      ],
      "metadata": {
        "id": "TTnOqZBkw3Bm"
      }
    },
    {
      "cell_type": "code",
      "source": [
        "for indice, valor in enumerate(lista):\n",
        "    print(f'Índice: {indice}, Valor: {valor}')"
      ],
      "metadata": {
        "colab": {
          "base_uri": "https://localhost:8080/"
        },
        "id": "aW3_rLP1w-T8",
        "outputId": "dc1e8b76-2392-4ec6-894f-121588f96d57"
      },
      "execution_count": null,
      "outputs": [
        {
          "output_type": "stream",
          "name": "stdout",
          "text": [
            "Índice: 0, Valor: 1\n",
            "Índice: 1, Valor: 2\n",
            "Índice: 2, Valor: 3\n",
            "Índice: 3, Valor: 3\n",
            "Índice: 4, Valor: 4\n"
          ]
        }
      ]
    },
    {
      "cell_type": "code",
      "source": [
        "lista[3] = 5\n",
        "for indice, valor in enumerate(lista):\n",
        "    print(f'Índice: {indice}, Valor: {valor}')"
      ],
      "metadata": {
        "colab": {
          "base_uri": "https://localhost:8080/"
        },
        "id": "jZgUGKlmxSU9",
        "outputId": "79dc1a28-6d2b-4e03-87d2-7e5a63da2511"
      },
      "execution_count": null,
      "outputs": [
        {
          "output_type": "stream",
          "name": "stdout",
          "text": [
            "Índice: 0, Valor: 1\n",
            "Índice: 1, Valor: 2\n",
            "Índice: 2, Valor: 3\n",
            "Índice: 3, Valor: 5\n",
            "Índice: 4, Valor: 4\n"
          ]
        }
      ]
    },
    {
      "cell_type": "code",
      "source": [
        "# soma dos números de 1 a 10\n",
        "soma = 0\n",
        "for i in range(1, 11):\n",
        "    print(i)\n",
        "    soma += i\n",
        "print(f'Soma: {soma}')"
      ],
      "metadata": {
        "colab": {
          "base_uri": "https://localhost:8080/"
        },
        "id": "HSbfISVyxhN8",
        "outputId": "def9671c-c8b4-443c-943b-7dba7e89ea4b"
      },
      "execution_count": null,
      "outputs": [
        {
          "output_type": "stream",
          "name": "stdout",
          "text": [
            "1\n",
            "2\n",
            "3\n",
            "4\n",
            "5\n",
            "6\n",
            "7\n",
            "8\n",
            "9\n",
            "10\n",
            "Soma: 55\n"
          ]
        }
      ]
    },
    {
      "cell_type": "code",
      "source": [
        "soma = 0\n",
        "soma = soma + 1\n",
        "soma = soma + 2\n",
        "soma = soma + 3\n",
        "....\n",
        "soma = soma + 10\n",
        "\n",
        "for i in range(1, 11):\n",
        "    soma = soma + i\n",
        "\n",
        "print(soma)\n"
      ],
      "metadata": {
        "id": "0e7v-GjEIW0F"
      },
      "execution_count": null,
      "outputs": []
    },
    {
      "cell_type": "markdown",
      "source": [
        "## Funções"
      ],
      "metadata": {
        "id": "U9x6qgl7pp3r"
      }
    },
    {
      "cell_type": "code",
      "source": [
        "def saudacao(nome):\n",
        "    return f'Olá, {nome}!'\n",
        "\n",
        "print(saudacao('Aluno'))"
      ],
      "metadata": {
        "id": "rlQI1iNcpxT0",
        "colab": {
          "base_uri": "https://localhost:8080/"
        },
        "outputId": "79154c41-eba1-4eaa-ea36-bff48c94764a"
      },
      "execution_count": null,
      "outputs": [
        {
          "output_type": "stream",
          "name": "stdout",
          "text": [
            "Olá, Aluno!\n"
          ]
        }
      ]
    },
    {
      "cell_type": "markdown",
      "source": [
        "# Bibliotecas Essenciais para Machine Learning"
      ],
      "metadata": {
        "id": "laPG_gnRp3CQ"
      }
    },
    {
      "cell_type": "code",
      "execution_count": null,
      "metadata": {
        "colab": {
          "base_uri": "https://localhost:8080/",
          "height": 576
        },
        "id": "QFJiKX4hospm",
        "outputId": "4ccf04bb-4253-4022-fba0-182fd3f5392b"
      },
      "outputs": [
        {
          "output_type": "stream",
          "name": "stdout",
          "text": [
            "Array Numpy: [1 2 3 4 5]\n",
            "DataFrame Pandas:\n",
            "      Nome  Idade\n",
            "0     Ana     23\n",
            "1   Bruno     35\n",
            "2  Carlos     19\n"
          ]
        },
        {
          "output_type": "display_data",
          "data": {
            "text/plain": [
              "<Figure size 640x480 with 1 Axes>"
            ],
            "image/png": "[encoded data removed]"
          },
          "metadata": {}
        }
      ],
      "source": [
        "# Seção 2: Bibliotecas Essenciais para Machine Learning\n",
        "import numpy as np\n",
        "import pandas as pd\n",
        "import matplotlib.pyplot as plt\n",
        "\n",
        "# Numpy\n",
        "array = np.array([1, 2, 3, 4, 5])\n",
        "print('Array Numpy:', array)\n",
        "\n",
        "# Pandas\n",
        "df = pd.DataFrame({'Nome': ['Ana', 'Bruno', 'Carlos'], 'Idade': [23, 35, 19]})\n",
        "print('DataFrame Pandas:\\n', df)\n",
        "\n",
        "# Matplotlib\n",
        "plt.plot(array, array**2)\n",
        "plt.xlabel('X')\n",
        "plt.ylabel('X ao quadrado')\n",
        "plt.title('Gráfico Exemplo')\n",
        "plt.show()"
      ]
    },
    {
      "cell_type": "code",
      "source": [
        "# prompt: Crie exercícios de algoritmos básicos de python, sem necessidade de bibliotecas\n",
        "\n",
        "# Exercício 1: Fatorial de um número\n",
        "\n",
        "# Exercício 2: Verificar se um número é primo\n",
        "\n",
        "# Exercício 3: Encontrar o maior elemento em uma lista\n"
      ],
      "metadata": {
        "id": "1yloBLDcrGbs"
      },
      "execution_count": null,
      "outputs": []
    }
  ]
}